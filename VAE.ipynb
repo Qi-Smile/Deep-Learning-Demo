{
 "cells": [
  {
   "cell_type": "markdown",
   "metadata": {},
   "source": [
    "变分自编码器（VAE）[参考博客](https://zhuanlan.zhihu.com/p/249296925)\n",
    "\n",
    "VAE的想法是利用Encoder、Decoder的架构，首先将输入分布映射到正态分布，然后训练一个正态分布到输入的解码器\n",
    "\n",
    "在计算Decoder的时候，利用变分推断计算$P_{\\theta}(x|z)$这个后验分布，同时需要注意对于evidence lower bound（ELBO）的理解\n",
    "\n",
    "我们会发现，推理的时候，并没有用到Encoder，但是在训练的时候我们需要让Encoder将输入编码到一个正态分布的空间。那么为什么不直接假设潜在空间是正态分布，仅训练一个Decoder呢？我的理解是，如果这样仅训练Decoder，并不能学习到特征到输入的关系，对于一个随机噪声，其可能是猫、也可以变成狗。但是Encoder的存在，使得正态分布的一部分区间代表了猫，一部分区间代表了狗，相比于从整个正态分布隐空间去瞎猜，Encoder帮助我们为了能够更好地学习和表示数据的复杂分布，有助于更好的训练Decoder网络。"
   ]
  },
  {
   "cell_type": "code",
   "execution_count": 1,
   "metadata": {},
   "outputs": [],
   "source": [
    "# 利用VAE实现Mnist的产生\n",
    "import torch\n",
    "import matplotlib.pyplot as plt\n",
    "from torchvision import datasets, transforms\n",
    "from torch import nn, optim\n",
    "from torch.nn import functional as F\n",
    "from tqdm import tqdm\n",
    "import os\n"
   ]
  },
  {
   "cell_type": "code",
   "execution_count": 2,
   "metadata": {},
   "outputs": [],
   "source": [
    "# 定义Encoder，将X压缩为一个正态分布，输出应该为正态分布的均值和方差\n",
    "class Encoder(torch.nn.Module):\n",
    "    #编码器，将input_size维度数据压缩为latent_size维度的mu和sigma\n",
    "    def __init__(self, input_size, hidden_size, latent_size):\n",
    "        super(Encoder, self).__init__()\n",
    "        self.linear = torch.nn.Linear(input_size, hidden_size)\n",
    "        self.mu = torch.nn.Linear(hidden_size, latent_size)\n",
    "        self.sigma = torch.nn.Linear(hidden_size, latent_size)\n",
    "    def forward(self, x):# x: bs,input_size\n",
    "        x = F.relu(self.linear(x)) #-> bs,hidden_size\n",
    "        mu = self.mu(x) #-> bs,latent_size\n",
    "        sigma = self.sigma(x)#-> bs,latent_size\n",
    "        return mu,sigma\n",
    "\n",
    "# 定义Decoder，将中间状态Z映射到X\n",
    "class Decoder(torch.nn.Module):\n",
    "    #解码器，将latent_size维度的数据转换为output_size维度的数据\n",
    "    def __init__(self, latent_size, hidden_size, output_size):\n",
    "        super(Decoder, self).__init__()\n",
    "        self.linear1 = torch.nn.Linear(latent_size, hidden_size)\n",
    "        self.linear2 = torch.nn.Linear(hidden_size, output_size)\n",
    "    def forward(self, x): # x:bs,latent_size\n",
    "        x = F.relu(self.linear1(x)) #->bs,hidden_size\n",
    "        # 可以把这个输出结果压缩到【0-1】，方便与像素对应\n",
    "        x = torch.sigmoid(self.linear2(x)) #->bs,output_size\n",
    "        return x\n",
    "\n",
    "# 定义VAE模块\n",
    "class VAE(torch.nn.Module):\n",
    "    #将编码器解码器组合\n",
    "    def __init__(self, input_size, output_size, latent_size, hidden_size):\n",
    "        super(VAE, self).__init__()\n",
    "        self.encoder = Encoder(input_size, hidden_size, latent_size)\n",
    "        self.decoder = Decoder(latent_size, hidden_size, output_size)\n",
    "    # 这里用到了重采样\n",
    "    def forward(self, x): #x: bs,input_size\n",
    "        # 压缩，获取mu和sigma\n",
    "        mu,sigma = self.encoder(x) #mu,sigma: bs,latent_size\n",
    "        # 采样，获取采样数据\n",
    "        eps = torch.randn_like(sigma)  #eps: bs,latent_size\n",
    "        # 注意Pytorch的tensor乘法是哈达玛积，也就是两个tensor对应位置相乘\n",
    "        z = mu + eps*sigma  #z: bs,latent_size\n",
    "        # 重构，根据采样数据获取重构数据\n",
    "        re_x = self.decoder(z) # re_x: bs,output_size\n",
    "        return re_x,mu,sigma\n"
   ]
  },
  {
   "cell_type": "code",
   "execution_count": 3,
   "metadata": {},
   "outputs": [],
   "source": [
    "# 定义损失函数\n",
    "#交叉熵，衡量各个像素原始数据与重构数据的误差\n",
    "loss_BCE = torch.nn.BCELoss(reduction = 'sum')\n",
    "#均方误差可作为交叉熵替代使用.衡量各个像素原始数据与重构数据的误差\n",
    "loss_MSE = torch.nn.MSELoss(reduction = 'sum')\n",
    "#KL散度，衡量正态分布(mu,sigma)与正态分布(0,1)的差异，来源于公式计算\n",
    "loss_KLD = lambda mu,sigma: -0.5 * torch.sum(1 + torch.log(sigma**2) - mu.pow(2) - sigma**2)\n",
    "latent_size =16 #压缩后的特征维度\n",
    "hidden_size = 128 #encoder和decoder中间层的维度\n",
    "input_size= output_size = 28*28 #原始图片和生成图片的维度\n",
    "#训练参数\n",
    "epochs = 20 #训练时期\n",
    "batch_size = 32 #每步训练样本数\n",
    "learning_rate = 1e-4 #学习率\n",
    "device =torch.device('cuda' if torch.cuda.is_available() else 'cpu')#训练设备\n",
    "model = VAE(input_size,output_size,latent_size,hidden_size).to(device)\n",
    "optimizer = optim.Adam(model.parameters(), lr=learning_rate)"
   ]
  },
  {
   "cell_type": "code",
   "execution_count": 4,
   "metadata": {},
   "outputs": [],
   "source": [
    "# 模型训练\n",
    "#准备mnist数据集 (数据会下载到py文件所在的data文件夹下)\n",
    "train_loader = torch.utils.data.DataLoader(\n",
    "    datasets.MNIST('data/', train=True, download=True,\n",
    "                   transform=transforms.ToTensor()),\n",
    "    batch_size=batch_size, shuffle=True)\n",
    "test_loader = torch.utils.data.DataLoader(\n",
    "    datasets.MNIST('data/', train=False, transform=transforms.ToTensor()),\n",
    "    batch_size=batch_size, shuffle=False)\n"
   ]
  },
  {
   "cell_type": "code",
   "execution_count": 5,
   "metadata": {},
   "outputs": [
    {
     "name": "stderr",
     "output_type": "stream",
     "text": [
      "[train]epoch:0: 100%|██████████| 1875/1875 [00:09<00:00, 205.17it/s, loss=245]\n",
      "[train]epoch:1: 100%|██████████| 1875/1875 [00:09<00:00, 207.39it/s, loss=176]\n",
      "[train]epoch:2: 100%|██████████| 1875/1875 [00:08<00:00, 209.90it/s, loss=159]\n",
      "[train]epoch:3: 100%|██████████| 1875/1875 [00:08<00:00, 213.34it/s, loss=147]\n",
      "[train]epoch:4: 100%|██████████| 1875/1875 [00:09<00:00, 207.81it/s, loss=139]\n",
      "[train]epoch:5: 100%|██████████| 1875/1875 [00:08<00:00, 211.03it/s, loss=134]\n",
      "[train]epoch:6: 100%|██████████| 1875/1875 [00:08<00:00, 214.53it/s, loss=130]\n",
      "[train]epoch:7: 100%|██████████| 1875/1875 [00:08<00:00, 210.24it/s, loss=127]\n",
      "[train]epoch:8: 100%|██████████| 1875/1875 [00:08<00:00, 213.45it/s, loss=125]\n",
      "[train]epoch:9: 100%|██████████| 1875/1875 [00:08<00:00, 209.54it/s, loss=123]\n",
      "[train]epoch:10: 100%|██████████| 1875/1875 [00:09<00:00, 207.57it/s, loss=122]\n",
      "[train]epoch:11: 100%|██████████| 1875/1875 [00:08<00:00, 209.48it/s, loss=120]\n",
      "[train]epoch:12: 100%|██████████| 1875/1875 [00:08<00:00, 222.15it/s, loss=119]\n",
      "[train]epoch:13: 100%|██████████| 1875/1875 [00:08<00:00, 212.42it/s, loss=118]\n",
      "[train]epoch:14: 100%|██████████| 1875/1875 [00:08<00:00, 219.84it/s, loss=118]\n",
      "[train]epoch:15: 100%|██████████| 1875/1875 [00:08<00:00, 229.21it/s, loss=117]\n",
      "[train]epoch:16: 100%|██████████| 1875/1875 [00:08<00:00, 212.59it/s, loss=116]\n",
      "[train]epoch:17: 100%|██████████| 1875/1875 [00:08<00:00, 223.78it/s, loss=116]\n",
      "[train]epoch:18: 100%|██████████| 1875/1875 [00:08<00:00, 225.82it/s, loss=116]\n",
      "[train]epoch:19: 100%|██████████| 1875/1875 [00:08<00:00, 224.78it/s, loss=115]\n"
     ]
    }
   ],
   "source": [
    "#训练及测试\n",
    "loss_history = {'train':[],'eval':[]}\n",
    "for epoch in range(epochs):   \n",
    "    #训练\n",
    "    model.train()\n",
    "    #每个epoch重置损失，设置进度条\n",
    "    train_loss = 0\n",
    "    train_nsample = 0\n",
    "    t = tqdm(train_loader,desc = f'[train]epoch:{epoch}')\n",
    "    for imgs, lbls in t: #imgs:(bs,28,28)\n",
    "        bs = imgs.shape[0]\n",
    "        #获取数据\n",
    "        imgs = imgs.to(device).view(bs,input_size) #imgs:(bs,28*28)\n",
    "        #模型运算     \n",
    "        re_imgs, mu, sigma = model(imgs)\n",
    "        #计算损失\n",
    "        loss_re = loss_BCE(re_imgs, imgs) # 重构与原始数据的差距(也可使用loss_MSE)\n",
    "        loss_norm = loss_KLD(mu, sigma) # 正态分布(mu,sigma)与正态分布(0,1)的差距\n",
    "        loss = loss_re + loss_norm\n",
    "        #反向传播、参数优化，重置\n",
    "        loss.backward()\n",
    "        optimizer.step()\n",
    "        optimizer.zero_grad()\n",
    "        #计算平均损失，设置进度条\n",
    "        train_loss += loss.item()\n",
    "        train_nsample += bs\n",
    "        t.set_postfix({'loss':train_loss/train_nsample})\n",
    "    #每个epoch记录总损失\n",
    "    loss_history['train'].append(train_loss/train_nsample)\n"
   ]
  },
  {
   "cell_type": "code",
   "execution_count": 11,
   "metadata": {},
   "outputs": [
    {
     "name": "stderr",
     "output_type": "stream",
     "text": [
      "[eval]epoch:19: 100%|██████████| 313/313 [00:01<00:00, 280.36it/s, loss=114]\n"
     ]
    },
    {
     "data": {
      "image/png": "[encoded data removed]",
      "text/plain": [
       "<Figure size 1440x480 with 1 Axes>"
      ]
     },
     "metadata": {},
     "output_type": "display_data"
    },
    {
     "data": {
      "image/png": "[encoded data removed]",
      "text/plain": [
       "<Figure size 480x480 with 1 Axes>"
      ]
     },
     "metadata": {},
     "output_type": "display_data"
    }
   ],
   "source": [
    "#测试\n",
    "model.eval()\n",
    "#每个epoch重置损失，设置进度条\n",
    "test_loss = 0\n",
    "test_nsample = 0\n",
    "e = tqdm(test_loader,desc = f'[eval]epoch:{epoch}')\n",
    "for imgs, label in e:\n",
    "    bs = imgs.shape[0]\n",
    "    #获取数据\n",
    "    imgs = imgs.to(device).view(bs,input_size)\n",
    "    #模型运算   \n",
    "    re_imgs, mu, sigma = model(imgs)\n",
    "    #计算损失\n",
    "    loss_re = loss_BCE(re_imgs, imgs) \n",
    "    loss_norm = loss_KLD(mu, sigma) \n",
    "    loss = loss_re + loss_norm\n",
    "    #计算平均损失，设置进度条\n",
    "    test_loss += loss.item()\n",
    "    test_nsample += bs\n",
    "    e.set_postfix({'loss':test_loss/test_nsample})\n",
    "#每个epoch记录总损失    \n",
    "loss_history['eval'].append(test_loss/test_nsample)\n",
    "\n",
    "\n",
    "#展示效果   \n",
    "#按标准正态分布取样来自造数据\n",
    "sample = torch.randn(1,latent_size).to(device)\n",
    "#用decoder生成新数据\n",
    "gen = model.decoder(sample)[0].view(28,28)\n",
    "#将测试步骤中的真实数据、重构数据和上述生成的新数据绘图\n",
    "concat = torch.cat((imgs[0].view(28, 28),\n",
    "        re_imgs[0].view( 28, 28), gen), 1)\n",
    "plt.matshow(concat.cpu().detach().numpy())\n",
    "plt.show()\n",
    "\n",
    "# #显示每个epoch的loss变化\n",
    "# plt.plot(range(epoch+1),loss_history['train'])\n",
    "# plt.plot(range(epoch+1),loss_history['eval'])\n",
    "# plt.show()\n",
    "\n",
    "'调用模型'\n",
    "#按标准正态分布取样来自造数据\n",
    "sample = torch.randn(1,latent_size).to(device)\n",
    "#用decoder生成新数据\n",
    "generate = model.decoder(sample)[0].view(28,28)\n",
    "#展示生成数据\n",
    "plt.matshow(generate.cpu().detach().numpy())\n",
    "plt.show()"
   ]
  }
 ],
 "metadata": {
  "kernelspec": {
   "display_name": "sfl",
   "language": "python",
   "name": "python3"
  },
  "language_info": {
   "codemirror_mode": {
    "name": "ipython",
    "version": 3
   },
   "file_extension": ".py",
   "mimetype": "text/x-python",
   "name": "python",
   "nbconvert_exporter": "python",
   "pygments_lexer": "ipython3",
   "version": "3.10.14"
  }
 },
 "nbformat": 4,
 "nbformat_minor": 2
}
